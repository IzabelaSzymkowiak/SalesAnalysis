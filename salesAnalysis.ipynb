{
  "nbformat": 4,
  "nbformat_minor": 0,
  "metadata": {
    "colab": {
      "name": "salesAnalysis.ipynb",
      "provenance": [],
      "collapsed_sections": [],
      "toc_visible": true
    },
    "kernelspec": {
      "display_name": "Python 3",
      "name": "python3"
    }
  },
  "cells": [
    {
      "cell_type": "markdown",
      "metadata": {
        "id": "Nz-fwf2p-EL0"
      },
      "source": [
        "** The project aims to analyze 12 months worth of sales data. The data contains electronics store purchases broken down by month, product type, cost. **"
      ]
    },
    {
      "cell_type": "markdown",
      "metadata": {
        "id": "Qon90DT8EgsW"
      },
      "source": [
        "### 1. Libraries and data import"
      ]
    },
    {
      "cell_type": "code",
      "metadata": {
        "id": "ojaXyILlB_YP"
      },
      "source": [
        "%%bash \n",
        "newdir=\"Sales_Data\"\n",
        "if [ ! -d $newdir ]; then\n",
        "  mkdir $newdir\n",
        "fi\n"
      ],
      "execution_count": 1,
      "outputs": []
    },
    {
      "cell_type": "code",
      "metadata": {
        "colab": {
          "base_uri": "https://localhost:8080/",
          "height": 52
        },
        "id": "HQoYX_4PcVJW",
        "outputId": "66113574-a742-4f80-a7ae-1ba2998526e4"
      },
      "source": [
        "%pwd\r\n",
        "%cd ./Sales_Data/\r\n",
        "%pwd"
      ],
      "execution_count": 2,
      "outputs": [
        {
          "output_type": "stream",
          "text": [
            "/content/Sales_Data\n"
          ],
          "name": "stdout"
        },
        {
          "output_type": "execute_result",
          "data": {
            "application/vnd.google.colaboratory.intrinsic+json": {
              "type": "string"
            },
            "text/plain": [
              "'/content/Sales_Data'"
            ]
          },
          "metadata": {
            "tags": []
          },
          "execution_count": 2
        }
      ]
    },
    {
      "cell_type": "code",
      "metadata": {
        "colab": {
          "resources": {
            "http://localhost:8080/nbextensions/google.colab/files.js": {
              "data": "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",
              "ok": true,
              "headers": [
                [
                  "content-type",
                  "application/javascript"
                ]
              ],
              "status": 200,
              "status_text": ""
            }
          },
          "base_uri": "https://localhost:8080/",
          "height": 442
        },
        "id": "ZfuGhpFI85Ea",
        "outputId": "978538d3-7324-4375-e613-715be6b7b808"
      },
      "source": [
        "from google.colab import files  \r\n",
        "uploaded = files.upload()\r\n",
        "\r\n",
        "import io \r\n",
        "import pandas as pd\r\n",
        "import os\r\n"
      ],
      "execution_count": 3,
      "outputs": [
        {
          "output_type": "display_data",
          "data": {
            "text/html": [
              "\n",
              "     <input type=\"file\" id=\"files-d9b29dd8-3b16-4bcf-b794-5804e00beda6\" name=\"files[]\" multiple disabled\n",
              "        style=\"border:none\" />\n",
              "     <output id=\"result-d9b29dd8-3b16-4bcf-b794-5804e00beda6\">\n",
              "      Upload widget is only available when the cell has been executed in the\n",
              "      current browser session. Please rerun this cell to enable.\n",
              "      </output>\n",
              "      <script src=\"/nbextensions/google.colab/files.js\"></script> "
            ],
            "text/plain": [
              "<IPython.core.display.HTML object>"
            ]
          },
          "metadata": {
            "tags": []
          }
        },
        {
          "output_type": "stream",
          "text": [
            "Saving Sales_April_2019.csv to Sales_April_2019.csv\n",
            "Saving Sales_August_2019.csv to Sales_August_2019.csv\n",
            "Saving Sales_December_2019.csv to Sales_December_2019.csv\n",
            "Saving Sales_February_2019.csv to Sales_February_2019.csv\n",
            "Saving Sales_January_2019.csv to Sales_January_2019.csv\n",
            "Saving Sales_July_2019.csv to Sales_July_2019.csv\n",
            "Saving Sales_June_2019.csv to Sales_June_2019.csv\n",
            "Saving Sales_March_2019.csv to Sales_March_2019.csv\n",
            "Saving Sales_May_2019.csv to Sales_May_2019.csv\n",
            "Saving Sales_November_2019.csv to Sales_November_2019.csv\n",
            "Saving Sales_October_2019.csv to Sales_October_2019.csv\n",
            "Saving Sales_September_2019.csv to Sales_September_2019.csv\n"
          ],
          "name": "stdout"
        }
      ]
    },
    {
      "cell_type": "code",
      "metadata": {
        "colab": {
          "base_uri": "https://localhost:8080/"
        },
        "id": "EzziZLKM_1TV",
        "outputId": "123fe136-1735-4b54-cabb-322982b55d7c"
      },
      "source": [
        "files = [file for file in os.listdir('.')]\r\n",
        "print(files)"
      ],
      "execution_count": 4,
      "outputs": [
        {
          "output_type": "stream",
          "text": [
            "['Sales_February_2019.csv', 'Sales_December_2019.csv', 'Sales_August_2019.csv', 'Sales_October_2019.csv', 'Sales_September_2019.csv', 'Sales_April_2019.csv', 'Sales_November_2019.csv', 'Sales_May_2019.csv', 'Sales_March_2019.csv', 'Sales_July_2019.csv', 'Sales_January_2019.csv', 'Sales_June_2019.csv']\n"
          ],
          "name": "stdout"
        }
      ]
    },
    {
      "cell_type": "markdown",
      "metadata": {
        "id": "3sVqSWDAGTHF"
      },
      "source": [
        "### 2. Data merging"
      ]
    },
    {
      "cell_type": "code",
      "metadata": {
        "colab": {
          "base_uri": "https://localhost:8080/",
          "height": 195
        },
        "id": "okAYJjBjGQHV",
        "outputId": "4d028467-2a02-4a9c-edbd-cbef5824e12c"
      },
      "source": [
        "all_Files = pd.DataFrame()\r\n",
        "for filename in files:\r\n",
        "    df = pd.read_csv(\"./\"+filename)\r\n",
        "    all_Files = pd.concat([all_Files, df])\r\n",
        "  \r\n",
        "all_Files.head()"
      ],
      "execution_count": 5,
      "outputs": [
        {
          "output_type": "execute_result",
          "data": {
            "text/html": [
              "<div>\n",
              "<style scoped>\n",
              "    .dataframe tbody tr th:only-of-type {\n",
              "        vertical-align: middle;\n",
              "    }\n",
              "\n",
              "    .dataframe tbody tr th {\n",
              "        vertical-align: top;\n",
              "    }\n",
              "\n",
              "    .dataframe thead th {\n",
              "        text-align: right;\n",
              "    }\n",
              "</style>\n",
              "<table border=\"1\" class=\"dataframe\">\n",
              "  <thead>\n",
              "    <tr style=\"text-align: right;\">\n",
              "      <th></th>\n",
              "      <th>Order ID</th>\n",
              "      <th>Product</th>\n",
              "      <th>Quantity Ordered</th>\n",
              "      <th>Price Each</th>\n",
              "      <th>Order Date</th>\n",
              "      <th>Purchase Address</th>\n",
              "    </tr>\n",
              "  </thead>\n",
              "  <tbody>\n",
              "    <tr>\n",
              "      <th>0</th>\n",
              "      <td>150502</td>\n",
              "      <td>iPhone</td>\n",
              "      <td>1</td>\n",
              "      <td>700</td>\n",
              "      <td>02/18/19 01:35</td>\n",
              "      <td>866 Spruce St, Portland, ME 04101</td>\n",
              "    </tr>\n",
              "    <tr>\n",
              "      <th>1</th>\n",
              "      <td>150503</td>\n",
              "      <td>AA Batteries (4-pack)</td>\n",
              "      <td>1</td>\n",
              "      <td>3.84</td>\n",
              "      <td>02/13/19 07:24</td>\n",
              "      <td>18 13th St, San Francisco, CA 94016</td>\n",
              "    </tr>\n",
              "    <tr>\n",
              "      <th>2</th>\n",
              "      <td>150504</td>\n",
              "      <td>27in 4K Gaming Monitor</td>\n",
              "      <td>1</td>\n",
              "      <td>389.99</td>\n",
              "      <td>02/18/19 09:46</td>\n",
              "      <td>52 6th St, New York City, NY 10001</td>\n",
              "    </tr>\n",
              "    <tr>\n",
              "      <th>3</th>\n",
              "      <td>150505</td>\n",
              "      <td>Lightning Charging Cable</td>\n",
              "      <td>1</td>\n",
              "      <td>14.95</td>\n",
              "      <td>02/02/19 16:47</td>\n",
              "      <td>129 Cherry St, Atlanta, GA 30301</td>\n",
              "    </tr>\n",
              "    <tr>\n",
              "      <th>4</th>\n",
              "      <td>150506</td>\n",
              "      <td>AA Batteries (4-pack)</td>\n",
              "      <td>2</td>\n",
              "      <td>3.84</td>\n",
              "      <td>02/28/19 20:32</td>\n",
              "      <td>548 Lincoln St, Seattle, WA 98101</td>\n",
              "    </tr>\n",
              "  </tbody>\n",
              "</table>\n",
              "</div>"
            ],
            "text/plain": [
              "  Order ID  ...                     Purchase Address\n",
              "0   150502  ...    866 Spruce St, Portland, ME 04101\n",
              "1   150503  ...  18 13th St, San Francisco, CA 94016\n",
              "2   150504  ...   52 6th St, New York City, NY 10001\n",
              "3   150505  ...     129 Cherry St, Atlanta, GA 30301\n",
              "4   150506  ...    548 Lincoln St, Seattle, WA 98101\n",
              "\n",
              "[5 rows x 6 columns]"
            ]
          },
          "metadata": {
            "tags": []
          },
          "execution_count": 5
        }
      ]
    },
    {
      "cell_type": "markdown",
      "metadata": {
        "id": "R6USkm9JKHeU"
      },
      "source": [
        "### 3. Finding the best month for sales\r\n",
        "\r\n"
      ]
    },
    {
      "cell_type": "markdown",
      "metadata": {
        "id": "-cmc3JwfKdw5"
      },
      "source": [
        "3.1 Adding the column with month number"
      ]
    },
    {
      "cell_type": "code",
      "metadata": {
        "colab": {
          "base_uri": "https://localhost:8080/",
          "height": 195
        },
        "id": "PxTsmt8QKWFp",
        "outputId": "f57c36d0-ffeb-413a-a6ac-ece153297507"
      },
      "source": [
        "all_Files['month'] = all_Files['Order Date'].astype(str).str[0:2]\r\n",
        "all_Files.head()"
      ],
      "execution_count": 6,
      "outputs": [
        {
          "output_type": "execute_result",
          "data": {
            "text/html": [
              "<div>\n",
              "<style scoped>\n",
              "    .dataframe tbody tr th:only-of-type {\n",
              "        vertical-align: middle;\n",
              "    }\n",
              "\n",
              "    .dataframe tbody tr th {\n",
              "        vertical-align: top;\n",
              "    }\n",
              "\n",
              "    .dataframe thead th {\n",
              "        text-align: right;\n",
              "    }\n",
              "</style>\n",
              "<table border=\"1\" class=\"dataframe\">\n",
              "  <thead>\n",
              "    <tr style=\"text-align: right;\">\n",
              "      <th></th>\n",
              "      <th>Order ID</th>\n",
              "      <th>Product</th>\n",
              "      <th>Quantity Ordered</th>\n",
              "      <th>Price Each</th>\n",
              "      <th>Order Date</th>\n",
              "      <th>Purchase Address</th>\n",
              "      <th>month</th>\n",
              "    </tr>\n",
              "  </thead>\n",
              "  <tbody>\n",
              "    <tr>\n",
              "      <th>0</th>\n",
              "      <td>150502</td>\n",
              "      <td>iPhone</td>\n",
              "      <td>1</td>\n",
              "      <td>700</td>\n",
              "      <td>02/18/19 01:35</td>\n",
              "      <td>866 Spruce St, Portland, ME 04101</td>\n",
              "      <td>02</td>\n",
              "    </tr>\n",
              "    <tr>\n",
              "      <th>1</th>\n",
              "      <td>150503</td>\n",
              "      <td>AA Batteries (4-pack)</td>\n",
              "      <td>1</td>\n",
              "      <td>3.84</td>\n",
              "      <td>02/13/19 07:24</td>\n",
              "      <td>18 13th St, San Francisco, CA 94016</td>\n",
              "      <td>02</td>\n",
              "    </tr>\n",
              "    <tr>\n",
              "      <th>2</th>\n",
              "      <td>150504</td>\n",
              "      <td>27in 4K Gaming Monitor</td>\n",
              "      <td>1</td>\n",
              "      <td>389.99</td>\n",
              "      <td>02/18/19 09:46</td>\n",
              "      <td>52 6th St, New York City, NY 10001</td>\n",
              "      <td>02</td>\n",
              "    </tr>\n",
              "    <tr>\n",
              "      <th>3</th>\n",
              "      <td>150505</td>\n",
              "      <td>Lightning Charging Cable</td>\n",
              "      <td>1</td>\n",
              "      <td>14.95</td>\n",
              "      <td>02/02/19 16:47</td>\n",
              "      <td>129 Cherry St, Atlanta, GA 30301</td>\n",
              "      <td>02</td>\n",
              "    </tr>\n",
              "    <tr>\n",
              "      <th>4</th>\n",
              "      <td>150506</td>\n",
              "      <td>AA Batteries (4-pack)</td>\n",
              "      <td>2</td>\n",
              "      <td>3.84</td>\n",
              "      <td>02/28/19 20:32</td>\n",
              "      <td>548 Lincoln St, Seattle, WA 98101</td>\n",
              "      <td>02</td>\n",
              "    </tr>\n",
              "  </tbody>\n",
              "</table>\n",
              "</div>"
            ],
            "text/plain": [
              "  Order ID                   Product  ...                     Purchase Address month\n",
              "0   150502                    iPhone  ...    866 Spruce St, Portland, ME 04101    02\n",
              "1   150503     AA Batteries (4-pack)  ...  18 13th St, San Francisco, CA 94016    02\n",
              "2   150504    27in 4K Gaming Monitor  ...   52 6th St, New York City, NY 10001    02\n",
              "3   150505  Lightning Charging Cable  ...     129 Cherry St, Atlanta, GA 30301    02\n",
              "4   150506     AA Batteries (4-pack)  ...    548 Lincoln St, Seattle, WA 98101    02\n",
              "\n",
              "[5 rows x 7 columns]"
            ]
          },
          "metadata": {
            "tags": []
          },
          "execution_count": 6
        }
      ]
    },
    {
      "cell_type": "markdown",
      "metadata": {
        "id": "hXnofqUFNuym"
      },
      "source": [
        "3.2 Cleaning the data - removing rows of NaN and 'Or'"
      ]
    },
    {
      "cell_type": "code",
      "metadata": {
        "id": "I3dEbbDtKWgm"
      },
      "source": [
        "all_Files = all_Files.dropna()"
      ],
      "execution_count": 10,
      "outputs": []
    },
    {
      "cell_type": "code",
      "metadata": {
        "id": "PH-ApwPzPElS"
      },
      "source": [
        "all_Files = all_Files[all_Files != 'Or']"
      ],
      "execution_count": 11,
      "outputs": []
    },
    {
      "cell_type": "markdown",
      "metadata": {
        "id": "N2xjysHPQ0rJ"
      },
      "source": [
        "3.3 Converting month column to int32\r\n"
      ]
    },
    {
      "cell_type": "code",
      "metadata": {
        "id": "ENEec3CtQNOA"
      },
      "source": [
        "all_Files['month'] = all_Files['month'].astype('int32')"
      ],
      "execution_count": 12,
      "outputs": []
    },
    {
      "cell_type": "markdown",
      "metadata": {
        "id": "LvMbVqumT6lr"
      },
      "source": [
        "To find the best month for sales we can multiply the Quantity Ordered by Price Each"
      ]
    },
    {
      "cell_type": "code",
      "metadata": {
        "colab": {
          "base_uri": "https://localhost:8080/",
          "height": 195
        },
        "id": "KVIOPZnPTqUy",
        "outputId": "1fca5a99-07da-4d2b-dc5f-c25ebc3d7692"
      },
      "source": [
        "all_Files['Price Each'] = all_Files['Price Each'].astype('float')\r\n",
        "all_Files['Quantity Ordered'] = all_Files['Quantity Ordered'].astype('int32')\r\n",
        "all_Files['sales'] = all_Files['Quantity Ordered'] * all_Files['Price Each']\r\n",
        "\r\n",
        "all_Files.head()"
      ],
      "execution_count": 13,
      "outputs": [
        {
          "output_type": "execute_result",
          "data": {
            "text/html": [
              "<div>\n",
              "<style scoped>\n",
              "    .dataframe tbody tr th:only-of-type {\n",
              "        vertical-align: middle;\n",
              "    }\n",
              "\n",
              "    .dataframe tbody tr th {\n",
              "        vertical-align: top;\n",
              "    }\n",
              "\n",
              "    .dataframe thead th {\n",
              "        text-align: right;\n",
              "    }\n",
              "</style>\n",
              "<table border=\"1\" class=\"dataframe\">\n",
              "  <thead>\n",
              "    <tr style=\"text-align: right;\">\n",
              "      <th></th>\n",
              "      <th>Order ID</th>\n",
              "      <th>Product</th>\n",
              "      <th>Quantity Ordered</th>\n",
              "      <th>Price Each</th>\n",
              "      <th>Order Date</th>\n",
              "      <th>Purchase Address</th>\n",
              "      <th>month</th>\n",
              "      <th>sales</th>\n",
              "    </tr>\n",
              "  </thead>\n",
              "  <tbody>\n",
              "    <tr>\n",
              "      <th>0</th>\n",
              "      <td>150502</td>\n",
              "      <td>iPhone</td>\n",
              "      <td>1</td>\n",
              "      <td>700.00</td>\n",
              "      <td>02/18/19 01:35</td>\n",
              "      <td>866 Spruce St, Portland, ME 04101</td>\n",
              "      <td>2</td>\n",
              "      <td>700.00</td>\n",
              "    </tr>\n",
              "    <tr>\n",
              "      <th>1</th>\n",
              "      <td>150503</td>\n",
              "      <td>AA Batteries (4-pack)</td>\n",
              "      <td>1</td>\n",
              "      <td>3.84</td>\n",
              "      <td>02/13/19 07:24</td>\n",
              "      <td>18 13th St, San Francisco, CA 94016</td>\n",
              "      <td>2</td>\n",
              "      <td>3.84</td>\n",
              "    </tr>\n",
              "    <tr>\n",
              "      <th>2</th>\n",
              "      <td>150504</td>\n",
              "      <td>27in 4K Gaming Monitor</td>\n",
              "      <td>1</td>\n",
              "      <td>389.99</td>\n",
              "      <td>02/18/19 09:46</td>\n",
              "      <td>52 6th St, New York City, NY 10001</td>\n",
              "      <td>2</td>\n",
              "      <td>389.99</td>\n",
              "    </tr>\n",
              "    <tr>\n",
              "      <th>3</th>\n",
              "      <td>150505</td>\n",
              "      <td>Lightning Charging Cable</td>\n",
              "      <td>1</td>\n",
              "      <td>14.95</td>\n",
              "      <td>02/02/19 16:47</td>\n",
              "      <td>129 Cherry St, Atlanta, GA 30301</td>\n",
              "      <td>2</td>\n",
              "      <td>14.95</td>\n",
              "    </tr>\n",
              "    <tr>\n",
              "      <th>4</th>\n",
              "      <td>150506</td>\n",
              "      <td>AA Batteries (4-pack)</td>\n",
              "      <td>2</td>\n",
              "      <td>3.84</td>\n",
              "      <td>02/28/19 20:32</td>\n",
              "      <td>548 Lincoln St, Seattle, WA 98101</td>\n",
              "      <td>2</td>\n",
              "      <td>7.68</td>\n",
              "    </tr>\n",
              "  </tbody>\n",
              "</table>\n",
              "</div>"
            ],
            "text/plain": [
              "  Order ID                   Product  ...  month   sales\n",
              "0   150502                    iPhone  ...      2  700.00\n",
              "1   150503     AA Batteries (4-pack)  ...      2    3.84\n",
              "2   150504    27in 4K Gaming Monitor  ...      2  389.99\n",
              "3   150505  Lightning Charging Cable  ...      2   14.95\n",
              "4   150506     AA Batteries (4-pack)  ...      2    7.68\n",
              "\n",
              "[5 rows x 8 columns]"
            ]
          },
          "metadata": {
            "tags": []
          },
          "execution_count": 13
        }
      ]
    },
    {
      "cell_type": "code",
      "metadata": {
        "colab": {
          "base_uri": "https://localhost:8080/"
        },
        "id": "5hXTweyfTmL4",
        "outputId": "dbdc0c6f-e5e0-4e34-e07c-917c957e25d9"
      },
      "source": [
        "import calendar\r\n",
        "\r\n",
        "sum_month = all_Files.groupby('month').sum()\r\n",
        "print(sum_month)\r\n",
        "\r\n",
        "best_month = sum_month['sales'].idxmax(axis = 1)\r\n",
        "print(\"The best month for sales is\", calendar.month_name[best_month])"
      ],
      "execution_count": 14,
      "outputs": [
        {
          "output_type": "stream",
          "text": [
            "       Quantity Ordered    Price Each         sales\n",
            "month                                              \n",
            "1                 10903  1.811768e+06  1.822257e+06\n",
            "2                 13449  2.188885e+06  2.202022e+06\n",
            "3                 17005  2.791208e+06  2.807100e+06\n",
            "4                 20558  3.367671e+06  3.390670e+06\n",
            "5                 18667  3.135125e+06  3.152607e+06\n",
            "6                 15253  2.562026e+06  2.577802e+06\n",
            "7                 16072  2.632540e+06  2.647776e+06\n",
            "8                 13448  2.230345e+06  2.244468e+06\n",
            "9                 13109  2.084992e+06  2.097560e+06\n",
            "10                22703  3.715555e+06  3.736727e+06\n",
            "11                19798  3.180601e+06  3.199603e+06\n",
            "12                28114  4.588415e+06  4.613443e+06\n",
            "The best month for sales is December\n"
          ],
          "name": "stdout"
        }
      ]
    },
    {
      "cell_type": "code",
      "metadata": {
        "colab": {
          "base_uri": "https://localhost:8080/",
          "height": 335
        },
        "id": "ma_XxaqrcUPr",
        "outputId": "a1a8c6c0-f184-4937-c23d-20c040f28b35"
      },
      "source": [
        "import matplotlib.pyplot as plt\r\n",
        "\r\n",
        "months = calendar.month_name[1:13]\r\n",
        "plt.bar(months, sum_month['sales'])\r\n",
        "plt.xlabel('Months')\r\n",
        "plt.ylabel('Sales')\r\n",
        "plt.xticks(rotation=90)\r\n",
        "plt.show()"
      ],
      "execution_count": 15,
      "outputs": [
        {
          "output_type": "display_data",
          "data": {
            "image/png": "[encoded data removed]",
            "text/plain": [
              "<Figure size 432x288 with 1 Axes>"
            ]
          },
          "metadata": {
            "tags": [],
            "needs_background": "light"
          }
        }
      ]
    },
    {
      "cell_type": "markdown",
      "metadata": {
        "id": "32IAz5K2fZMn"
      },
      "source": [
        "### 4. Finding the city which had the highest number of sales"
      ]
    },
    {
      "cell_type": "code",
      "metadata": {
        "colab": {
          "base_uri": "https://localhost:8080/"
        },
        "id": "c49yOacafkex",
        "outputId": "b8ffa7c3-af72-4f8f-e992-7927c9274c3f"
      },
      "source": [
        "all_Files['city'] = all_Files['Purchase Address'].astype(str).str.rsplit(pat=',').str[-2]\r\n",
        "all_Files['state'] = all_Files['Purchase Address'].astype(str).str.rsplit(pat=' ').str[-2]\r\n",
        "all_Files['city'] = all_Files['city'] + ' ' + all_Files['state']\r\n",
        "all_Files = all_Files.drop(['state'], 1)\r\n",
        "\r\n",
        "all_Files.head()\r\n",
        "\r\n",
        "\r\n",
        "sum_city = all_Files.groupby('city').sum()\r\n",
        "print(sum_city)\r\n",
        "\r\n",
        "best_city = sum_city['sales'].max()\r\n",
        "best_city_name = sum_city['sales'].idxmax(axis = 1)\r\n",
        "print(\"the highest number of sales is in\", best_city_name)\r\n"
      ],
      "execution_count": 16,
      "outputs": [
        {
          "output_type": "stream",
          "text": [
            "                   Quantity Ordered    Price Each   month         sales\n",
            "city                                                                   \n",
            " Atlanta GA                   16602  2.779908e+06  104794  2.795499e+06\n",
            " Austin TX                    11153  1.809874e+06   69829  1.819582e+06\n",
            " Boston MA                    22528  3.637410e+06  141112  3.661642e+06\n",
            " Dallas TX                    16730  2.752628e+06  104620  2.767975e+06\n",
            " Los Angeles CA               33289  5.421435e+06  208325  5.452571e+06\n",
            " New York City NY             27932  4.635371e+06  175741  4.664317e+06\n",
            " Portland ME                   2750  4.471893e+05   17144  4.497583e+05\n",
            " Portland OR                  11303  1.860558e+06   70621  1.870732e+06\n",
            " San Francisco CA             50239  8.211462e+06  315520  8.262204e+06\n",
            " Seattle WA                   16553  2.733296e+06  104941  2.747755e+06\n",
            "the highest number of sales is in  San Francisco CA\n"
          ],
          "name": "stdout"
        }
      ]
    },
    {
      "cell_type": "code",
      "metadata": {
        "colab": {
          "base_uri": "https://localhost:8080/",
          "height": 369
        },
        "id": "mIdnokyKn1eX",
        "outputId": "15ce7286-64ad-4e8a-8745-96b2d7032f05"
      },
      "source": [
        "cities = [city for city, df in all_Files.groupby('city')]\r\n",
        "plt.bar(cities, sum_city['sales'])\r\n",
        "plt.xlabel('City')\r\n",
        "plt.ylabel('Sales')\r\n",
        "plt.xticks(rotation=90)\r\n",
        "plt.show()"
      ],
      "execution_count": 17,
      "outputs": [
        {
          "output_type": "display_data",
          "data": {
            "image/png": "[encoded data removed]",
            "text/plain": [
              "<Figure size 432x288 with 1 Axes>"
            ]
          },
          "metadata": {
            "tags": [],
            "needs_background": "light"
          }
        }
      ]
    },
    {
      "cell_type": "markdown",
      "metadata": {
        "id": "X2kteSmdKX4O"
      },
      "source": [
        "### 5. Finding the best time to display advertisements to maximize the likelihood of customer's buying a product."
      ]
    },
    {
      "cell_type": "code",
      "metadata": {
        "colab": {
          "base_uri": "https://localhost:8080/",
          "height": 296
        },
        "id": "2jXTpUoiKki0",
        "outputId": "bb3553ad-1389-4744-d1ae-f6bc9dbd5b26"
      },
      "source": [
        "all_Files['Order Date'] = pd.to_datetime(all_Files['Order Date'])\r\n",
        "\r\n",
        "all_Files['hour'] = all_Files['Order Date'].dt.hour\r\n",
        "all_Files['minute'] = all_Files['Order Date'].dt.minute\r\n",
        "all_Files.head()"
      ],
      "execution_count": 18,
      "outputs": [
        {
          "output_type": "execute_result",
          "data": {
            "text/html": [
              "<div>\n",
              "<style scoped>\n",
              "    .dataframe tbody tr th:only-of-type {\n",
              "        vertical-align: middle;\n",
              "    }\n",
              "\n",
              "    .dataframe tbody tr th {\n",
              "        vertical-align: top;\n",
              "    }\n",
              "\n",
              "    .dataframe thead th {\n",
              "        text-align: right;\n",
              "    }\n",
              "</style>\n",
              "<table border=\"1\" class=\"dataframe\">\n",
              "  <thead>\n",
              "    <tr style=\"text-align: right;\">\n",
              "      <th></th>\n",
              "      <th>Order ID</th>\n",
              "      <th>Product</th>\n",
              "      <th>Quantity Ordered</th>\n",
              "      <th>Price Each</th>\n",
              "      <th>Order Date</th>\n",
              "      <th>Purchase Address</th>\n",
              "      <th>month</th>\n",
              "      <th>sales</th>\n",
              "      <th>city</th>\n",
              "      <th>hour</th>\n",
              "      <th>minute</th>\n",
              "    </tr>\n",
              "  </thead>\n",
              "  <tbody>\n",
              "    <tr>\n",
              "      <th>0</th>\n",
              "      <td>150502</td>\n",
              "      <td>iPhone</td>\n",
              "      <td>1</td>\n",
              "      <td>700.00</td>\n",
              "      <td>2019-02-18 01:35:00</td>\n",
              "      <td>866 Spruce St, Portland, ME 04101</td>\n",
              "      <td>2</td>\n",
              "      <td>700.00</td>\n",
              "      <td>Portland ME</td>\n",
              "      <td>1</td>\n",
              "      <td>35</td>\n",
              "    </tr>\n",
              "    <tr>\n",
              "      <th>1</th>\n",
              "      <td>150503</td>\n",
              "      <td>AA Batteries (4-pack)</td>\n",
              "      <td>1</td>\n",
              "      <td>3.84</td>\n",
              "      <td>2019-02-13 07:24:00</td>\n",
              "      <td>18 13th St, San Francisco, CA 94016</td>\n",
              "      <td>2</td>\n",
              "      <td>3.84</td>\n",
              "      <td>San Francisco CA</td>\n",
              "      <td>7</td>\n",
              "      <td>24</td>\n",
              "    </tr>\n",
              "    <tr>\n",
              "      <th>2</th>\n",
              "      <td>150504</td>\n",
              "      <td>27in 4K Gaming Monitor</td>\n",
              "      <td>1</td>\n",
              "      <td>389.99</td>\n",
              "      <td>2019-02-18 09:46:00</td>\n",
              "      <td>52 6th St, New York City, NY 10001</td>\n",
              "      <td>2</td>\n",
              "      <td>389.99</td>\n",
              "      <td>New York City NY</td>\n",
              "      <td>9</td>\n",
              "      <td>46</td>\n",
              "    </tr>\n",
              "    <tr>\n",
              "      <th>3</th>\n",
              "      <td>150505</td>\n",
              "      <td>Lightning Charging Cable</td>\n",
              "      <td>1</td>\n",
              "      <td>14.95</td>\n",
              "      <td>2019-02-02 16:47:00</td>\n",
              "      <td>129 Cherry St, Atlanta, GA 30301</td>\n",
              "      <td>2</td>\n",
              "      <td>14.95</td>\n",
              "      <td>Atlanta GA</td>\n",
              "      <td>16</td>\n",
              "      <td>47</td>\n",
              "    </tr>\n",
              "    <tr>\n",
              "      <th>4</th>\n",
              "      <td>150506</td>\n",
              "      <td>AA Batteries (4-pack)</td>\n",
              "      <td>2</td>\n",
              "      <td>3.84</td>\n",
              "      <td>2019-02-28 20:32:00</td>\n",
              "      <td>548 Lincoln St, Seattle, WA 98101</td>\n",
              "      <td>2</td>\n",
              "      <td>7.68</td>\n",
              "      <td>Seattle WA</td>\n",
              "      <td>20</td>\n",
              "      <td>32</td>\n",
              "    </tr>\n",
              "  </tbody>\n",
              "</table>\n",
              "</div>"
            ],
            "text/plain": [
              "  Order ID                   Product  ...  hour  minute\n",
              "0   150502                    iPhone  ...     1      35\n",
              "1   150503     AA Batteries (4-pack)  ...     7      24\n",
              "2   150504    27in 4K Gaming Monitor  ...     9      46\n",
              "3   150505  Lightning Charging Cable  ...    16      47\n",
              "4   150506     AA Batteries (4-pack)  ...    20      32\n",
              "\n",
              "[5 rows x 11 columns]"
            ]
          },
          "metadata": {
            "tags": []
          },
          "execution_count": 18
        }
      ]
    },
    {
      "cell_type": "code",
      "metadata": {
        "colab": {
          "base_uri": "https://localhost:8080/",
          "height": 279
        },
        "id": "dowsFE8oPOaX",
        "outputId": "5f933900-c228-49fa-eddb-1de8efd9b7e7"
      },
      "source": [
        "hours = [hour for hour, df in all_Files.groupby('hour')]\r\n",
        "\r\n",
        "plt.plot(hours, all_Files.groupby(['hour']).count())\r\n",
        "plt.grid()\r\n",
        "plt.xticks(hours)\r\n",
        "plt.xlabel('Hour')\r\n",
        "plt.ylabel('number of orders')\r\n",
        "plt.show()"
      ],
      "execution_count": 19,
      "outputs": [
        {
          "output_type": "display_data",
          "data": {
            "image/png": "[encoded data removed]",
            "text/plain": [
              "<Figure size 432x288 with 1 Axes>"
            ]
          },
          "metadata": {
            "tags": [],
            "needs_background": "light"
          }
        }
      ]
    },
    {
      "cell_type": "markdown",
      "metadata": {
        "id": "cGcp-Ca5QX1v"
      },
      "source": [
        "The best time to put an ad is before 11 or 19.\r\n",
        "\r\n",
        "\r\n"
      ]
    },
    {
      "cell_type": "markdown",
      "metadata": {
        "id": "oafLRYM3RUmU"
      },
      "source": [
        "### 6. Finding products that are most often sold together."
      ]
    },
    {
      "cell_type": "markdown",
      "metadata": {
        "id": "69-XLlvDRtkg"
      },
      "source": [
        "Products sold together have the same Order ID and the same Purchase Address."
      ]
    },
    {
      "cell_type": "markdown",
      "metadata": {
        "id": "sTs1t0eISWOZ"
      },
      "source": [
        "6.1 Finding duplicated cells in Order ID column."
      ]
    },
    {
      "cell_type": "code",
      "metadata": {
        "colab": {
          "base_uri": "https://localhost:8080/",
          "height": 760
        },
        "id": "Nz8GU4K4Rfvc",
        "outputId": "4bc15d02-6cca-4e96-b7d7-81301ef07095"
      },
      "source": [
        "df = all_Files[all_Files['Order ID'].duplicated(keep = False)]\r\n",
        "df.head(15)"
      ],
      "execution_count": 20,
      "outputs": [
        {
          "output_type": "execute_result",
          "data": {
            "text/html": [
              "<div>\n",
              "<style scoped>\n",
              "    .dataframe tbody tr th:only-of-type {\n",
              "        vertical-align: middle;\n",
              "    }\n",
              "\n",
              "    .dataframe tbody tr th {\n",
              "        vertical-align: top;\n",
              "    }\n",
              "\n",
              "    .dataframe thead th {\n",
              "        text-align: right;\n",
              "    }\n",
              "</style>\n",
              "<table border=\"1\" class=\"dataframe\">\n",
              "  <thead>\n",
              "    <tr style=\"text-align: right;\">\n",
              "      <th></th>\n",
              "      <th>Order ID</th>\n",
              "      <th>Product</th>\n",
              "      <th>Quantity Ordered</th>\n",
              "      <th>Price Each</th>\n",
              "      <th>Order Date</th>\n",
              "      <th>Purchase Address</th>\n",
              "      <th>month</th>\n",
              "      <th>sales</th>\n",
              "      <th>city</th>\n",
              "      <th>hour</th>\n",
              "      <th>minute</th>\n",
              "    </tr>\n",
              "  </thead>\n",
              "  <tbody>\n",
              "    <tr>\n",
              "      <th>16</th>\n",
              "      <td>150518</td>\n",
              "      <td>Macbook Pro Laptop</td>\n",
              "      <td>1</td>\n",
              "      <td>1700.00</td>\n",
              "      <td>2019-02-26 12:38:00</td>\n",
              "      <td>847 10th St, San Francisco, CA 94016</td>\n",
              "      <td>2</td>\n",
              "      <td>1700.00</td>\n",
              "      <td>San Francisco CA</td>\n",
              "      <td>12</td>\n",
              "      <td>38</td>\n",
              "    </tr>\n",
              "    <tr>\n",
              "      <th>17</th>\n",
              "      <td>150518</td>\n",
              "      <td>iPhone</td>\n",
              "      <td>1</td>\n",
              "      <td>700.00</td>\n",
              "      <td>2019-02-26 12:38:00</td>\n",
              "      <td>847 10th St, San Francisco, CA 94016</td>\n",
              "      <td>2</td>\n",
              "      <td>700.00</td>\n",
              "      <td>San Francisco CA</td>\n",
              "      <td>12</td>\n",
              "      <td>38</td>\n",
              "    </tr>\n",
              "    <tr>\n",
              "      <th>82</th>\n",
              "      <td>150582</td>\n",
              "      <td>iPhone</td>\n",
              "      <td>1</td>\n",
              "      <td>700.00</td>\n",
              "      <td>2019-02-16 23:38:00</td>\n",
              "      <td>678 Maple St, Seattle, WA 98101</td>\n",
              "      <td>2</td>\n",
              "      <td>700.00</td>\n",
              "      <td>Seattle WA</td>\n",
              "      <td>23</td>\n",
              "      <td>38</td>\n",
              "    </tr>\n",
              "    <tr>\n",
              "      <th>83</th>\n",
              "      <td>150582</td>\n",
              "      <td>Lightning Charging Cable</td>\n",
              "      <td>1</td>\n",
              "      <td>14.95</td>\n",
              "      <td>2019-02-16 23:38:00</td>\n",
              "      <td>678 Maple St, Seattle, WA 98101</td>\n",
              "      <td>2</td>\n",
              "      <td>14.95</td>\n",
              "      <td>Seattle WA</td>\n",
              "      <td>23</td>\n",
              "      <td>38</td>\n",
              "    </tr>\n",
              "    <tr>\n",
              "      <th>91</th>\n",
              "      <td>150590</td>\n",
              "      <td>Apple Airpods Headphones</td>\n",
              "      <td>1</td>\n",
              "      <td>150.00</td>\n",
              "      <td>2019-02-08 09:35:00</td>\n",
              "      <td>196 River St, San Francisco, CA 94016</td>\n",
              "      <td>2</td>\n",
              "      <td>150.00</td>\n",
              "      <td>San Francisco CA</td>\n",
              "      <td>9</td>\n",
              "      <td>35</td>\n",
              "    </tr>\n",
              "    <tr>\n",
              "      <th>92</th>\n",
              "      <td>150590</td>\n",
              "      <td>AAA Batteries (4-pack)</td>\n",
              "      <td>1</td>\n",
              "      <td>2.99</td>\n",
              "      <td>2019-02-08 09:35:00</td>\n",
              "      <td>196 River St, San Francisco, CA 94016</td>\n",
              "      <td>2</td>\n",
              "      <td>2.99</td>\n",
              "      <td>San Francisco CA</td>\n",
              "      <td>9</td>\n",
              "      <td>35</td>\n",
              "    </tr>\n",
              "    <tr>\n",
              "      <th>119</th>\n",
              "      <td>150617</td>\n",
              "      <td>Google Phone</td>\n",
              "      <td>1</td>\n",
              "      <td>600.00</td>\n",
              "      <td>2019-02-25 00:02:00</td>\n",
              "      <td>551 Sunset St, New York City, NY 10001</td>\n",
              "      <td>2</td>\n",
              "      <td>600.00</td>\n",
              "      <td>New York City NY</td>\n",
              "      <td>0</td>\n",
              "      <td>2</td>\n",
              "    </tr>\n",
              "    <tr>\n",
              "      <th>120</th>\n",
              "      <td>150617</td>\n",
              "      <td>USB-C Charging Cable</td>\n",
              "      <td>1</td>\n",
              "      <td>11.95</td>\n",
              "      <td>2019-02-25 00:02:00</td>\n",
              "      <td>551 Sunset St, New York City, NY 10001</td>\n",
              "      <td>2</td>\n",
              "      <td>11.95</td>\n",
              "      <td>New York City NY</td>\n",
              "      <td>0</td>\n",
              "      <td>2</td>\n",
              "    </tr>\n",
              "    <tr>\n",
              "      <th>154</th>\n",
              "      <td>150651</td>\n",
              "      <td>Google Phone</td>\n",
              "      <td>1</td>\n",
              "      <td>600.00</td>\n",
              "      <td>2019-02-02 11:49:00</td>\n",
              "      <td>525 10th St, New York City, NY 10001</td>\n",
              "      <td>2</td>\n",
              "      <td>600.00</td>\n",
              "      <td>New York City NY</td>\n",
              "      <td>11</td>\n",
              "      <td>49</td>\n",
              "    </tr>\n",
              "    <tr>\n",
              "      <th>155</th>\n",
              "      <td>150651</td>\n",
              "      <td>USB-C Charging Cable</td>\n",
              "      <td>1</td>\n",
              "      <td>11.95</td>\n",
              "      <td>2019-02-02 11:49:00</td>\n",
              "      <td>525 10th St, New York City, NY 10001</td>\n",
              "      <td>2</td>\n",
              "      <td>11.95</td>\n",
              "      <td>New York City NY</td>\n",
              "      <td>11</td>\n",
              "      <td>49</td>\n",
              "    </tr>\n",
              "    <tr>\n",
              "      <th>180</th>\n",
              "      <td>150674</td>\n",
              "      <td>Google Phone</td>\n",
              "      <td>1</td>\n",
              "      <td>600.00</td>\n",
              "      <td>2019-02-21 11:44:00</td>\n",
              "      <td>690 Park St, San Francisco, CA 94016</td>\n",
              "      <td>2</td>\n",
              "      <td>600.00</td>\n",
              "      <td>San Francisco CA</td>\n",
              "      <td>11</td>\n",
              "      <td>44</td>\n",
              "    </tr>\n",
              "    <tr>\n",
              "      <th>181</th>\n",
              "      <td>150674</td>\n",
              "      <td>USB-C Charging Cable</td>\n",
              "      <td>1</td>\n",
              "      <td>11.95</td>\n",
              "      <td>2019-02-21 11:44:00</td>\n",
              "      <td>690 Park St, San Francisco, CA 94016</td>\n",
              "      <td>2</td>\n",
              "      <td>11.95</td>\n",
              "      <td>San Francisco CA</td>\n",
              "      <td>11</td>\n",
              "      <td>44</td>\n",
              "    </tr>\n",
              "    <tr>\n",
              "      <th>182</th>\n",
              "      <td>150674</td>\n",
              "      <td>Wired Headphones</td>\n",
              "      <td>1</td>\n",
              "      <td>11.99</td>\n",
              "      <td>2019-02-21 11:44:00</td>\n",
              "      <td>690 Park St, San Francisco, CA 94016</td>\n",
              "      <td>2</td>\n",
              "      <td>11.99</td>\n",
              "      <td>San Francisco CA</td>\n",
              "      <td>11</td>\n",
              "      <td>44</td>\n",
              "    </tr>\n",
              "    <tr>\n",
              "      <th>196</th>\n",
              "      <td>150688</td>\n",
              "      <td>Google Phone</td>\n",
              "      <td>1</td>\n",
              "      <td>600.00</td>\n",
              "      <td>2019-02-07 09:30:00</td>\n",
              "      <td>719 Maple St, New York City, NY 10001</td>\n",
              "      <td>2</td>\n",
              "      <td>600.00</td>\n",
              "      <td>New York City NY</td>\n",
              "      <td>9</td>\n",
              "      <td>30</td>\n",
              "    </tr>\n",
              "    <tr>\n",
              "      <th>197</th>\n",
              "      <td>150688</td>\n",
              "      <td>Wired Headphones</td>\n",
              "      <td>1</td>\n",
              "      <td>11.99</td>\n",
              "      <td>2019-02-07 09:30:00</td>\n",
              "      <td>719 Maple St, New York City, NY 10001</td>\n",
              "      <td>2</td>\n",
              "      <td>11.99</td>\n",
              "      <td>New York City NY</td>\n",
              "      <td>9</td>\n",
              "      <td>30</td>\n",
              "    </tr>\n",
              "  </tbody>\n",
              "</table>\n",
              "</div>"
            ],
            "text/plain": [
              "    Order ID                   Product  ...  hour  minute\n",
              "16    150518        Macbook Pro Laptop  ...    12      38\n",
              "17    150518                    iPhone  ...    12      38\n",
              "82    150582                    iPhone  ...    23      38\n",
              "83    150582  Lightning Charging Cable  ...    23      38\n",
              "91    150590  Apple Airpods Headphones  ...     9      35\n",
              "92    150590    AAA Batteries (4-pack)  ...     9      35\n",
              "119   150617              Google Phone  ...     0       2\n",
              "120   150617      USB-C Charging Cable  ...     0       2\n",
              "154   150651              Google Phone  ...    11      49\n",
              "155   150651      USB-C Charging Cable  ...    11      49\n",
              "180   150674              Google Phone  ...    11      44\n",
              "181   150674      USB-C Charging Cable  ...    11      44\n",
              "182   150674          Wired Headphones  ...    11      44\n",
              "196   150688              Google Phone  ...     9      30\n",
              "197   150688          Wired Headphones  ...     9      30\n",
              "\n",
              "[15 rows x 11 columns]"
            ]
          },
          "metadata": {
            "tags": []
          },
          "execution_count": 20
        }
      ]
    },
    {
      "cell_type": "code",
      "metadata": {
        "colab": {
          "base_uri": "https://localhost:8080/",
          "height": 592
        },
        "id": "bLb4C_GRT3iS",
        "outputId": "7b38cce1-6fd3-42e0-ce21-0a92be4430d4"
      },
      "source": [
        "df['grouped'] = df.groupby('Order ID')['Product'].transform(lambda x: ','.join(x))\r\n",
        "\r\n",
        "df = df[['Order ID', 'grouped']].drop_duplicates()\r\n",
        "df.head(15)"
      ],
      "execution_count": 21,
      "outputs": [
        {
          "output_type": "stream",
          "text": [
            "/usr/local/lib/python3.7/dist-packages/ipykernel_launcher.py:1: SettingWithCopyWarning: \n",
            "A value is trying to be set on a copy of a slice from a DataFrame.\n",
            "Try using .loc[row_indexer,col_indexer] = value instead\n",
            "\n",
            "See the caveats in the documentation: https://pandas.pydata.org/pandas-docs/stable/user_guide/indexing.html#returning-a-view-versus-a-copy\n",
            "  \"\"\"Entry point for launching an IPython kernel.\n"
          ],
          "name": "stderr"
        },
        {
          "output_type": "execute_result",
          "data": {
            "text/html": [
              "<div>\n",
              "<style scoped>\n",
              "    .dataframe tbody tr th:only-of-type {\n",
              "        vertical-align: middle;\n",
              "    }\n",
              "\n",
              "    .dataframe tbody tr th {\n",
              "        vertical-align: top;\n",
              "    }\n",
              "\n",
              "    .dataframe thead th {\n",
              "        text-align: right;\n",
              "    }\n",
              "</style>\n",
              "<table border=\"1\" class=\"dataframe\">\n",
              "  <thead>\n",
              "    <tr style=\"text-align: right;\">\n",
              "      <th></th>\n",
              "      <th>Order ID</th>\n",
              "      <th>grouped</th>\n",
              "    </tr>\n",
              "  </thead>\n",
              "  <tbody>\n",
              "    <tr>\n",
              "      <th>16</th>\n",
              "      <td>150518</td>\n",
              "      <td>Macbook Pro Laptop,iPhone</td>\n",
              "    </tr>\n",
              "    <tr>\n",
              "      <th>82</th>\n",
              "      <td>150582</td>\n",
              "      <td>iPhone,Lightning Charging Cable</td>\n",
              "    </tr>\n",
              "    <tr>\n",
              "      <th>91</th>\n",
              "      <td>150590</td>\n",
              "      <td>Apple Airpods Headphones,AAA Batteries (4-pack)</td>\n",
              "    </tr>\n",
              "    <tr>\n",
              "      <th>119</th>\n",
              "      <td>150617</td>\n",
              "      <td>Google Phone,USB-C Charging Cable</td>\n",
              "    </tr>\n",
              "    <tr>\n",
              "      <th>154</th>\n",
              "      <td>150651</td>\n",
              "      <td>Google Phone,USB-C Charging Cable</td>\n",
              "    </tr>\n",
              "    <tr>\n",
              "      <th>180</th>\n",
              "      <td>150674</td>\n",
              "      <td>Google Phone,USB-C Charging Cable,Wired Headph...</td>\n",
              "    </tr>\n",
              "    <tr>\n",
              "      <th>196</th>\n",
              "      <td>150688</td>\n",
              "      <td>Google Phone,Wired Headphones</td>\n",
              "    </tr>\n",
              "    <tr>\n",
              "      <th>243</th>\n",
              "      <td>150734</td>\n",
              "      <td>Google Phone,USB-C Charging Cable</td>\n",
              "    </tr>\n",
              "    <tr>\n",
              "      <th>268</th>\n",
              "      <td>150758</td>\n",
              "      <td>iPhone,Wired Headphones</td>\n",
              "    </tr>\n",
              "    <tr>\n",
              "      <th>364</th>\n",
              "      <td>150853</td>\n",
              "      <td>AAA Batteries (4-pack),27in 4K Gaming Monitor</td>\n",
              "    </tr>\n",
              "    <tr>\n",
              "      <th>404</th>\n",
              "      <td>150892</td>\n",
              "      <td>Wired Headphones,Apple Airpods Headphones</td>\n",
              "    </tr>\n",
              "    <tr>\n",
              "      <th>420</th>\n",
              "      <td>150907</td>\n",
              "      <td>Apple Airpods Headphones,Wired Headphones</td>\n",
              "    </tr>\n",
              "    <tr>\n",
              "      <th>431</th>\n",
              "      <td>150917</td>\n",
              "      <td>Lightning Charging Cable,Lightning Charging Cable</td>\n",
              "    </tr>\n",
              "    <tr>\n",
              "      <th>440</th>\n",
              "      <td>150925</td>\n",
              "      <td>iPhone,Lightning Charging Cable,iPhone</td>\n",
              "    </tr>\n",
              "    <tr>\n",
              "      <th>460</th>\n",
              "      <td>150943</td>\n",
              "      <td>USB-C Charging Cable,USB-C Charging Cable</td>\n",
              "    </tr>\n",
              "  </tbody>\n",
              "</table>\n",
              "</div>"
            ],
            "text/plain": [
              "    Order ID                                            grouped\n",
              "16    150518                          Macbook Pro Laptop,iPhone\n",
              "82    150582                    iPhone,Lightning Charging Cable\n",
              "91    150590    Apple Airpods Headphones,AAA Batteries (4-pack)\n",
              "119   150617                  Google Phone,USB-C Charging Cable\n",
              "154   150651                  Google Phone,USB-C Charging Cable\n",
              "180   150674  Google Phone,USB-C Charging Cable,Wired Headph...\n",
              "196   150688                      Google Phone,Wired Headphones\n",
              "243   150734                  Google Phone,USB-C Charging Cable\n",
              "268   150758                            iPhone,Wired Headphones\n",
              "364   150853      AAA Batteries (4-pack),27in 4K Gaming Monitor\n",
              "404   150892          Wired Headphones,Apple Airpods Headphones\n",
              "420   150907          Apple Airpods Headphones,Wired Headphones\n",
              "431   150917  Lightning Charging Cable,Lightning Charging Cable\n",
              "440   150925             iPhone,Lightning Charging Cable,iPhone\n",
              "460   150943          USB-C Charging Cable,USB-C Charging Cable"
            ]
          },
          "metadata": {
            "tags": []
          },
          "execution_count": 21
        }
      ]
    },
    {
      "cell_type": "code",
      "metadata": {
        "colab": {
          "base_uri": "https://localhost:8080/"
        },
        "id": "RDxDlIhoVMV-",
        "outputId": "ff566b2e-62ac-4eae-ad88-b9140753545d"
      },
      "source": [
        "from itertools import combinations\r\n",
        "from collections import Counter\r\n",
        "\r\n",
        "def soldTogether(k):\r\n",
        "  count = Counter()\r\n",
        "  for row in df['grouped']:\r\n",
        "    row_list = row.split(',')\r\n",
        "    count.update(Counter(combinations(row_list,k)))\r\n",
        "  return(count.most_common(1))\r\n",
        "\r\n",
        "\r\n",
        "  \r\n",
        "print(\"Two most sold together products are\",soldTogether(2)[0][0])\r\n",
        "print(\"Three most sold together products are\", soldTogether(3)[0][0])"
      ],
      "execution_count": 22,
      "outputs": [
        {
          "output_type": "stream",
          "text": [
            "Two most sold together products are ('iPhone', 'Lightning Charging Cable')\n",
            "Three most sold together products are ('Google Phone', 'USB-C Charging Cable', 'Wired Headphones')\n"
          ],
          "name": "stdout"
        }
      ]
    },
    {
      "cell_type": "markdown",
      "metadata": {
        "id": "ahrA8vntWbtq"
      },
      "source": [
        "### 7. Finding the most sold product"
      ]
    },
    {
      "cell_type": "code",
      "metadata": {
        "colab": {
          "base_uri": "https://localhost:8080/",
          "height": 420
        },
        "id": "nQoE8FhQZBFp",
        "outputId": "9dcf066a-31d8-406b-f5a5-cafb49be0755"
      },
      "source": [
        "product_group = all_Files.groupby('Product')\r\n",
        "quantity_ordered = product_group.sum()['Quantity Ordered']\r\n",
        "\r\n",
        "products = [product for product, df in product_group]\r\n",
        "\r\n",
        "plt.bar(products, quantity_ordered)\r\n",
        "plt.xlabel('product')\r\n",
        "plt.ylabel('Quantity ordered')\r\n",
        "plt.xticks(rotation=90)\r\n",
        "plt.show()"
      ],
      "execution_count": 23,
      "outputs": [
        {
          "output_type": "display_data",
          "data": {
            "image/png": "[encoded data removed]",
            "text/plain": [
              "<Figure size 432x288 with 1 Axes>"
            ]
          },
          "metadata": {
            "tags": [],
            "needs_background": "light"
          }
        }
      ]
    },
    {
      "cell_type": "code",
      "metadata": {
        "colab": {
          "base_uri": "https://localhost:8080/",
          "height": 420
        },
        "id": "jt1NH7cVb84B",
        "outputId": "25125b81-6a40-43b9-84e4-629a1d43a309"
      },
      "source": [
        "prices = all_Files.groupby('Product').mean()['Price Each']\r\n",
        "\r\n",
        "fig, ax1 = plt.subplots()\r\n",
        "\r\n",
        "ax2 = ax1.twinx()\r\n",
        "ax1.bar(products, quantity_ordered, color = 'g')\r\n",
        "ax2.plot(products, prices, 'b-')\r\n",
        "\r\n",
        "ax1.set_xlabel('Product Name')\r\n",
        "ax1.set_ylabel('Quantity Ordered', color = 'g')\r\n",
        "ax2.set_ylabel('Price', color = 'b')\r\n",
        "ax1.set_xticklabels(products, rotation = 'vertical')\r\n",
        "plt.show()"
      ],
      "execution_count": 24,
      "outputs": [
        {
          "output_type": "display_data",
          "data": {
            "image/png": "[encoded data removed]",
            "text/plain": [
              "<Figure size 432x288 with 2 Axes>"
            ]
          },
          "metadata": {
            "tags": [],
            "needs_background": "light"
          }
        }
      ]
    }
  ]
}